{
  "nbformat": 4,
  "nbformat_minor": 0,
  "metadata": {
    "colab": {
      "provenance": []
    },
    "kernelspec": {
      "name": "python3",
      "display_name": "Python 3"
    },
    "language_info": {
      "name": "python"
    }
  },
  "cells": [
    {
      "cell_type": "markdown",
      "source": [
        "Q1 :- Print the given strings as per stated format"
      ],
      "metadata": {
        "id": "U_1EJqEw8EGY"
      }
    },
    {
      "cell_type": "code",
      "source": [
        "print(\"Data-Science-Mentorship-Program-started-By-CampusX\")"
      ],
      "metadata": {
        "colab": {
          "base_uri": "https://localhost:8080/"
        },
        "id": "Vueg4CZN8J6N",
        "outputId": "3c8a3fd3-1d38-4f9a-ff7c-08eae4a2d095"
      },
      "execution_count": 1,
      "outputs": [
        {
          "output_type": "stream",
          "name": "stdout",
          "text": [
            "Data-Science-Mentorship-Program-started-By-CampusX\n"
          ]
        }
      ]
    },
    {
      "cell_type": "markdown",
      "source": [
        "Q2: Celsius to Fahrenheit Conversion"
      ],
      "metadata": {
        "id": "TOg3fwyY8e1-"
      }
    },
    {
      "cell_type": "code",
      "source": [
        "celsius = float(input(\"Enter temperature in Celsius: \"))\n",
        "fahrenheit = (celsius * 9/5) + 32\n",
        "print(\"Temperature in Fahrenheit:\", fahrenheit)"
      ],
      "metadata": {
        "colab": {
          "base_uri": "https://localhost:8080/"
        },
        "id": "btTaiD-p8hiZ",
        "outputId": "2b6568ad-60c6-4118-ca88-f78e94395c17"
      },
      "execution_count": 2,
      "outputs": [
        {
          "output_type": "stream",
          "name": "stdout",
          "text": [
            "Enter temperature in Celsius: 55\n",
            "Temperature in Fahrenheit: 131.0\n"
          ]
        }
      ]
    },
    {
      "cell_type": "markdown",
      "source": [
        "Q3: Swap Two Numbers"
      ],
      "metadata": {
        "id": "3KEXElOe8nBo"
      }
    },
    {
      "cell_type": "code",
      "source": [
        "a = int(input(\"Enter first number: \"))\n",
        "b = int(input(\"Enter second number: \"))\n",
        "temp = a\n",
        "a = b\n",
        "b = temp\n",
        "print(\"After swapping: a =\", a, \"b =\", b)"
      ],
      "metadata": {
        "colab": {
          "base_uri": "https://localhost:8080/"
        },
        "id": "Y2L-Utbr8qL-",
        "outputId": "06dd4ab7-d67b-418a-8aca-e69463f1e0c0"
      },
      "execution_count": 3,
      "outputs": [
        {
          "output_type": "stream",
          "name": "stdout",
          "text": [
            "Enter first number: 1\n",
            "Enter second number: 5\n",
            "After swapping: a = 5 b = 1\n"
          ]
        }
      ]
    },
    {
      "cell_type": "markdown",
      "source": [
        "Q4: Euclidean Distance Between Two Coordinates"
      ],
      "metadata": {
        "id": "8gVRdRx08x_x"
      }
    },
    {
      "cell_type": "code",
      "source": [
        "import math\n",
        "x1 = float(input(\"Enter x1: \"))\n",
        "y1 = float(input(\"Enter y1: \"))\n",
        "x2 = float(input(\"Enter x2: \"))\n",
        "y2 = float(input(\"Enter y2: \"))\n",
        "\n",
        "distance = math.sqrt((x2 - x1)**2 + (y2 - y1)**2)\n",
        "print(\"Euclidean Distance:\", distance)"
      ],
      "metadata": {
        "colab": {
          "base_uri": "https://localhost:8080/"
        },
        "id": "ci_r0E8K81Hz",
        "outputId": "50c7cbb9-d827-4e71-ba7a-ba60607ba1ee"
      },
      "execution_count": 4,
      "outputs": [
        {
          "output_type": "stream",
          "name": "stdout",
          "text": [
            "Enter x1: 4\n",
            "Enter y1: 5\n",
            "Enter x2: 6\n",
            "Enter y2: 4\n",
            "Euclidean Distance: 2.23606797749979\n"
          ]
        }
      ]
    },
    {
      "cell_type": "markdown",
      "source": [
        "Q5: Simple Interest Calculation"
      ],
      "metadata": {
        "id": "m5f9jDhe87EI"
      }
    },
    {
      "cell_type": "code",
      "source": [
        "p = float(input(\"Enter principal: \"))\n",
        "r = float(input(\"Enter rate of interest: \"))\n",
        "t = float(input(\"Enter time in years: \"))\n",
        "\n",
        "si = (p * r * t) / 100\n",
        "print(\"Simple Interest:\", si)"
      ],
      "metadata": {
        "colab": {
          "base_uri": "https://localhost:8080/"
        },
        "id": "pW_o9-Jv89EM",
        "outputId": "2742566b-cf3f-4b71-d497-10a6c9577286"
      },
      "execution_count": 6,
      "outputs": [
        {
          "output_type": "stream",
          "name": "stdout",
          "text": [
            "Enter principal: 10000\n",
            "Enter rate of interest: 7\n",
            "Enter time in years: 3\n",
            "Simple Interest: 2100.0\n"
          ]
        }
      ]
    },
    {
      "cell_type": "markdown",
      "source": [
        "Q6: Find Number of Dogs and Chickens Given Heads and Legs"
      ],
      "metadata": {
        "id": "2zFI7GvP9gUw"
      }
    },
    {
      "cell_type": "code",
      "source": [
        "heads = int(input(\"Enter number of heads: \"))\n",
        "legs = int(input(\"Enter number of legs: \"))\n",
        "\n",
        "dogs = (legs - 2 * heads) // 2\n",
        "chickens = heads - dogs\n",
        "\n",
        "print(\"Dogs:\", dogs)\n",
        "print(\"Chickens:\", chickens)"
      ],
      "metadata": {
        "colab": {
          "base_uri": "https://localhost:8080/"
        },
        "id": "1HyPhnMY9nte",
        "outputId": "de5532d8-e8d8-4262-ff54-6716fb6c023b"
      },
      "execution_count": 7,
      "outputs": [
        {
          "output_type": "stream",
          "name": "stdout",
          "text": [
            "Enter number of heads: 4\n",
            "Enter number of legs: 16\n",
            "Dogs: 4\n",
            "Chickens: 0\n"
          ]
        }
      ]
    },
    {
      "cell_type": "markdown",
      "source": [
        "Q7: Sum of Squares of First N Natural Numbers"
      ],
      "metadata": {
        "id": "FVTJzc3x-OxG"
      }
    },
    {
      "cell_type": "code",
      "source": [
        "n = int(input(\"Enter value of n: \"))\n",
        "sum_of_squares = n * (n + 1) * (2 * n + 1) // 6\n",
        "print(\"Sum of squares:\", sum_of_squares)"
      ],
      "metadata": {
        "colab": {
          "base_uri": "https://localhost:8080/"
        },
        "id": "k772hH3k-Qeg",
        "outputId": "78378e17-736f-4fff-a403-237b0d94f36f"
      },
      "execution_count": 8,
      "outputs": [
        {
          "output_type": "stream",
          "name": "stdout",
          "text": [
            "Enter value of n: 4\n",
            "Sum of squares: 30\n"
          ]
        }
      ]
    },
    {
      "cell_type": "markdown",
      "source": [
        "Q8: Nth Term of Arithmetic Series"
      ],
      "metadata": {
        "id": "uKY-DBLt-YHb"
      }
    },
    {
      "cell_type": "code",
      "source": [
        "a1 = int(input(\"Enter first term: \"))\n",
        "a2 = int(input(\"Enter second term: \"))\n",
        "n = int(input(\"Enter which term to find: \"))\n",
        "\n",
        "d = a2 - a1\n",
        "an = a1 + (n - 1) * d\n",
        "print(f\"The {n}th term of the AP is:\", an)"
      ],
      "metadata": {
        "colab": {
          "base_uri": "https://localhost:8080/"
        },
        "id": "-75-zXE3-e6u",
        "outputId": "558af751-877d-4699-8ee6-63460bc0126a"
      },
      "execution_count": 9,
      "outputs": [
        {
          "output_type": "stream",
          "name": "stdout",
          "text": [
            "Enter first term: 4\n",
            "Enter second term: 5\n",
            "Enter which term to find: 3\n",
            "The 3th term of the AP is: 6\n"
          ]
        }
      ]
    },
    {
      "cell_type": "markdown",
      "source": [
        "Q9: Sum of Two Fractions"
      ],
      "metadata": {
        "id": "1tzNsATQ-mba"
      }
    },
    {
      "cell_type": "code",
      "source": [
        "num1 = int(input(\"Enter numerator of first fraction: \"))\n",
        "den1 = int(input(\"Enter denominator of first fraction: \"))\n",
        "num2 = int(input(\"Enter numerator of second fraction: \"))\n",
        "den2 = int(input(\"Enter denominator of second fraction: \"))\n",
        "\n",
        "# Find LCM of denominators\n",
        "import math\n",
        "lcm = den1 * den2 // math.gcd(den1, den2)\n",
        "\n",
        "sum_num = num1 * (lcm // den1) + num2 * (lcm // den2)\n",
        "common_gcd = math.gcd(sum_num, lcm)\n",
        "\n",
        "print(\"Sum of fractions:\", sum_num // common_gcd, \"/\", lcm // common_gcd)"
      ],
      "metadata": {
        "colab": {
          "base_uri": "https://localhost:8080/"
        },
        "id": "yhd7i0Jq-ni4",
        "outputId": "60c64ea5-fa38-4e06-b8bd-574bdfc2f14b"
      },
      "execution_count": 10,
      "outputs": [
        {
          "output_type": "stream",
          "name": "stdout",
          "text": [
            "Enter numerator of first fraction: 74\n",
            "Enter denominator of first fraction: 15\n",
            "Enter numerator of second fraction: 15\n",
            "Enter denominator of second fraction: 81\n",
            "Sum of fractions: 691 / 135\n"
          ]
        }
      ]
    },
    {
      "cell_type": "markdown",
      "source": [
        "Q10: Milk Tank to Glass Conversion"
      ],
      "metadata": {
        "id": "iUJD339k-6yz"
      }
    },
    {
      "cell_type": "code",
      "source": [
        "import math\n",
        "H = int(input(\"Enter height of tank (cm): \"))\n",
        "L = int(input(\"Enter length of tank (cm): \"))\n",
        "B = int(input(\"Enter breadth of tank (cm): \"))\n",
        "\n",
        "h = int(input(\"Enter height of glass (cm): \"))\n",
        "r = int(input(\"Enter radius of glass (cm): \"))\n",
        "\n",
        "volume_tank = H * L * B  # in cm³\n",
        "volume_glass = math.pi * r * r * h  # in cm³\n",
        "\n",
        "number_of_glasses = volume_tank // volume_glass\n",
        "print(\"Number of glasses of milk:\", int(number_of_glasses))"
      ],
      "metadata": {
        "colab": {
          "base_uri": "https://localhost:8080/"
        },
        "id": "HacS0CW3-8_K",
        "outputId": "5dc90ad4-e851-4f28-c81f-d282995002e1"
      },
      "execution_count": 11,
      "outputs": [
        {
          "output_type": "stream",
          "name": "stdout",
          "text": [
            "Enter height of tank (cm): 1000\n",
            "Enter length of tank (cm): 500\n",
            "Enter breadth of tank (cm): 400\n",
            "Enter height of glass (cm): 6000\n",
            "Enter radius of glass (cm): 40\n",
            "Number of glasses of milk: 6\n"
          ]
        }
      ]
    }
  ]
}