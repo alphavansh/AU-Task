{
  "nbformat": 4,
  "nbformat_minor": 0,
  "metadata": {
    "colab": {
      "provenance": []
    },
    "kernelspec": {
      "name": "python3",
      "display_name": "Python 3"
    },
    "language_info": {
      "name": "python"
    }
  },
  "cells": [
    {
      "cell_type": "markdown",
      "source": [
        "Problem 1: In-hand Monthly Salary after Deductions"
      ],
      "metadata": {
        "id": "V35G1IHJAWg_"
      }
    },
    {
      "cell_type": "code",
      "source": [
        "ctc = float(input(\"Enter your CTC in lakhs: \")) * 100000\n",
        "hra = 0.10 * ctc\n",
        "da = 0.05 * ctc\n",
        "pf = 0.03 * ctc\n",
        "gross_salary = ctc - (hra + da + pf)\n",
        "\n",
        "# Tax Calculation\n",
        "if ctc <= 500000:\n",
        "    tax = 0\n",
        "elif ctc <= 1000000:\n",
        "    tax = 0.10 * gross_salary\n",
        "elif ctc <= 2000000:\n",
        "    tax = 0.20 * gross_salary\n",
        "else:\n",
        "    tax = 0.30 * gross_salary\n",
        "\n",
        "in_hand_annual = gross_salary - tax\n",
        "monthly_salary = in_hand_annual / 12\n",
        "print(\"Monthly In-hand Salary:\", int(monthly_salary))"
      ],
      "metadata": {
        "colab": {
          "base_uri": "https://localhost:8080/"
        },
        "id": "1PaEYqejAaR9",
        "outputId": "cc49f3d1-3a6c-4e78-a2e3-5541ebd74ae6"
      },
      "execution_count": 1,
      "outputs": [
        {
          "output_type": "stream",
          "name": "stdout",
          "text": [
            "Enter your CTC in lakhs: 5\n",
            "Monthly In-hand Salary: 34166\n"
          ]
        }
      ]
    },
    {
      "cell_type": "markdown",
      "source": [
        "Problem 2: Triangle Validity"
      ],
      "metadata": {
        "id": "yfWj78wbAg-v"
      }
    },
    {
      "cell_type": "code",
      "source": [
        "a = int(input(\"Enter angle 1: \"))\n",
        "b = int(input(\"Enter angle 2: \"))\n",
        "c = int(input(\"Enter angle 3: \"))\n",
        "if a + b + c == 180 and a > 0 and b > 0 and c > 0:\n",
        "    print(\"Valid Triangle\")\n",
        "else:\n",
        "    print(\"Not a Triangle\")"
      ],
      "metadata": {
        "colab": {
          "base_uri": "https://localhost:8080/"
        },
        "id": "pu75UgMeAi32",
        "outputId": "40354cf4-1da8-4a81-a70b-f4ca69a92fda"
      },
      "execution_count": 2,
      "outputs": [
        {
          "output_type": "stream",
          "name": "stdout",
          "text": [
            "Enter angle 1: 90\n",
            "Enter angle 2: 60\n",
            "Enter angle 3: 120\n",
            "Not a Triangle\n"
          ]
        }
      ]
    },
    {
      "cell_type": "markdown",
      "source": [
        "Problem 3: Profit or Loss"
      ],
      "metadata": {
        "id": "mu0EbroMAnjX"
      }
    },
    {
      "cell_type": "code",
      "source": [
        "cp = float(input(\"Enter cost price: \"))\n",
        "sp = float(input(\"Enter selling price: \"))\n",
        "if sp > cp:\n",
        "    print(\"Profit of\", sp - cp)\n",
        "elif cp > sp:\n",
        "    print(\"Loss of\", cp - sp)\n",
        "else:\n",
        "    print(\"No Profit No Loss\")"
      ],
      "metadata": {
        "colab": {
          "base_uri": "https://localhost:8080/"
        },
        "id": "2p6sCwIlApuC",
        "outputId": "e6ec653d-412e-475c-8509-c4790edd2550"
      },
      "execution_count": 4,
      "outputs": [
        {
          "output_type": "stream",
          "name": "stdout",
          "text": [
            "Enter cost price: 90\n",
            "Enter selling price: 120\n",
            "Profit of 30.0\n"
          ]
        }
      ]
    },
    {
      "cell_type": "markdown",
      "source": [
        "Problem 4: Menu-driven Converter"
      ],
      "metadata": {
        "id": "1ZIq6HiTAw35"
      }
    },
    {
      "cell_type": "code",
      "source": [
        "while True:\n",
        "    print(\"\\n1. cm to ft\\n2. km to miles\\n3. USD to INR\\n4. Exit\")\n",
        "    choice = int(input(\"Enter choice: \"))\n",
        "    if choice == 1:\n",
        "        cm = float(input(\"Enter cm: \"))\n",
        "        print(\"Feet:\", cm / 30.48)\n",
        "    elif choice == 2:\n",
        "        km = float(input(\"Enter km: \"))\n",
        "        print(\"Miles:\", km * 0.621371)\n",
        "    elif choice == 3:\n",
        "        usd = float(input(\"Enter USD: \"))\n",
        "        print(\"INR:\", usd * 83)  # Assuming 1 USD = ₹83\n",
        "    elif choice == 4:\n",
        "        break\n",
        "    else:\n",
        "        print(\"Invalid option\")"
      ],
      "metadata": {
        "colab": {
          "base_uri": "https://localhost:8080/"
        },
        "id": "7-2umF_ZAyrd",
        "outputId": "fb221405-86a1-4a6b-d055-a9d168c9b388"
      },
      "execution_count": null,
      "outputs": [
        {
          "output_type": "stream",
          "name": "stdout",
          "text": [
            "\n",
            "1. cm to ft\n",
            "2. km to miles\n",
            "3. USD to INR\n",
            "4. Exit\n",
            "Enter choice: 1\n",
            "Enter cm: 5\n",
            "Feet: 0.16404199475065617\n",
            "\n",
            "1. cm to ft\n",
            "2. km to miles\n",
            "3. USD to INR\n",
            "4. Exit\n",
            "Enter choice: 2\n",
            "Enter km: 6\n",
            "Miles: 3.7282260000000003\n",
            "\n",
            "1. cm to ft\n",
            "2. km to miles\n",
            "3. USD to INR\n",
            "4. Exit\n",
            "Enter choice: 3\n",
            "Enter USD: 100\n",
            "INR: 8300.0\n",
            "\n",
            "1. cm to ft\n",
            "2. km to miles\n",
            "3. USD to INR\n",
            "4. Exit\n"
          ]
        }
      ]
    },
    {
      "cell_type": "markdown",
      "source": [
        "Problem 5: Fibonacci Series up to 10 Terms"
      ],
      "metadata": {
        "id": "YwKVK9TTBD1Z"
      }
    },
    {
      "cell_type": "code",
      "source": [
        "a, b = 0, 1\n",
        "for _ in range(10):\n",
        "    print(a, end=\" \")\n",
        "    a, b = b, a + b"
      ],
      "metadata": {
        "id": "Ocr7m6xlBEjW"
      },
      "execution_count": null,
      "outputs": []
    },
    {
      "cell_type": "markdown",
      "source": [
        "Problem 6: Factorial"
      ],
      "metadata": {
        "id": "sDIuRPvNBHjz"
      }
    },
    {
      "cell_type": "code",
      "source": [
        "n = int(input(\"Enter number: \"))\n",
        "fact = 1\n",
        "for i in range(1, n+1):\n",
        "    fact *= i\n",
        "print(\"Factorial:\", fact)"
      ],
      "metadata": {
        "id": "OXVkXX4FBM9i"
      },
      "execution_count": null,
      "outputs": []
    },
    {
      "cell_type": "markdown",
      "source": [
        "Problem 7: Reverse Integer"
      ],
      "metadata": {
        "id": "17tNdbZBBOUR"
      }
    },
    {
      "cell_type": "code",
      "source": [
        "num = int(input(\"Enter number: \"))\n",
        "rev = int(str(num)[::-1])\n",
        "print(\"Reversed:\", rev)"
      ],
      "metadata": {
        "id": "LbBRr-FPBQ13"
      },
      "execution_count": null,
      "outputs": []
    },
    {
      "cell_type": "markdown",
      "source": [
        "Problem 8: Sum 1 to N skipping 5s and stopping after 300"
      ],
      "metadata": {
        "id": "Irf9eU6WBSRL"
      }
    },
    {
      "cell_type": "code",
      "source": [
        "n = int(input(\"Enter N: \"))\n",
        "i = 1\n",
        "total = 0\n",
        "while i <= n:\n",
        "    if i % 5 == 0:\n",
        "        i += 1\n",
        "        continue\n",
        "    total += i\n",
        "    if total > 300:\n",
        "        break\n",
        "    i += 1\n",
        "print(\"Sum:\", total)"
      ],
      "metadata": {
        "id": "lIYLE3g3BUWq"
      },
      "execution_count": null,
      "outputs": []
    },
    {
      "cell_type": "markdown",
      "source": [
        "Problem 9: Keep taking input until zero, then show sum and avg"
      ],
      "metadata": {
        "id": "NTyfTccaBWtV"
      }
    },
    {
      "cell_type": "code",
      "source": [
        "total = 0\n",
        "count = 0\n",
        "while True:\n",
        "    num = int(input(\"Enter number (0 to stop): \"))\n",
        "    if num == 0:\n",
        "        break\n",
        "    total += num\n",
        "    count += 1\n",
        "if count > 0:\n",
        "    print(\"Sum:\", total, \"Average:\", total / count)\n",
        "else:\n",
        "    print(\"No numbers entered.\")"
      ],
      "metadata": {
        "id": "8eyo7QmyBZif"
      },
      "execution_count": null,
      "outputs": []
    },
    {
      "cell_type": "markdown",
      "source": [
        "Problem 10: Divisible by 7 but not multiple of 5"
      ],
      "metadata": {
        "id": "GldscunWBcCU"
      }
    },
    {
      "cell_type": "code",
      "source": [
        "res = [str(i) for i in range(2000, 3201) if i % 7 == 0 and i % 5 != 0]\n",
        "print(\",\".join(res))"
      ],
      "metadata": {
        "id": "01uFKcBnBd12"
      },
      "execution_count": null,
      "outputs": []
    }
  ]
}